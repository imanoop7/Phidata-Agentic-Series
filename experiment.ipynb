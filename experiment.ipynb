{
 "cells": [
  {
   "cell_type": "code",
   "execution_count": 7,
   "metadata": {},
   "outputs": [
    {
     "name": "stdout",
     "output_type": "stream",
     "text": [
      "**Cinnamon French Toast with Fresh Berries and Whipped Cream**\n",
      "===========================================================\n",
      "\n",
      "A delicious and satisfying breakfast recipe that combines the warmth of cinnamon with the sweetness of fresh berries.\n",
      "\n",
      "### Ingredients:\n",
      "\n",
      "* 4 slices of bread (preferably challah or brioche)\n",
      "* 2 large eggs\n",
      "* 1 cup of milk\n",
      "* 1/4 teaspoon ground cinnamon\n",
      "* 2 tablespoons of unsalted butter, melted\n",
      "* 1/2 cup of fresh berries (such as strawberries, blueberries, or raspberries)\n",
      "* Whipped cream (store-bought or homemade)\n",
      "\n",
      "### Instructions:\n",
      "\n",
      "1. **Preheat the pan**: Heat a non-stick skillet or griddle over medium heat.\n",
      "2. **Whisk the eggs**: In a shallow dish, whisk together the eggs, milk, and cinnamon until well combined.\n",
      "3. **Dip the bread**: Dip each slice of bread into the egg mixture, coating both sides evenly.\n",
      "4. **Cook the French toast**: Place the coated bread slices on the preheated pan or griddle. Cook for 2-3 minutes on each side, or until golden brown and cooked through.\n",
      "5. **Assemble the dish**: Serve the French toast warm with fresh berries and a dollop of whipped cream.\n",
      "\n",
      "### Tips and Variations:\n",
      "\n",
      "* Use high-quality bread that can hold its shape when cooked.\n",
      "* Adjust the amount of cinnamon to your liking.\n",
      "* Add other toppings such as maple syrup, chopped nuts, or diced banana for extra flavor and texture.\n",
      "* Make ahead: Prepare the French toast batter the night before and store it in the fridge overnight. Cook the French toast in the morning and serve with fresh berries.\n",
      "\n",
      "Enjoy your delicious Cinnamon French Toast with Fresh Berries and Whipped Cream!\n"
     ]
    }
   ],
   "source": [
    "from phi.agent import Agent, RunResponse\n",
    "from phi.model.ollama import Ollama\n",
    "\n",
    "agent = Agent(\n",
    "    model=Ollama(id=\"llama3.2\"),\n",
    "    markdown=True\n",
    ")\n",
    "\n",
    "# Get the response in a variable\n",
    "run: RunResponse = agent.run(\"Share a breakfast recipe.\")\n",
    "print(run.content)\n",
    "\n",
    "# # Print the response in the terminal\n",
    "# agent.print_response(\"Share a 2 sentence horror story.\")\n"
   ]
  },
  {
   "cell_type": "code",
   "execution_count": null,
   "metadata": {},
   "outputs": [],
   "source": []
  }
 ],
 "metadata": {
  "kernelspec": {
   "display_name": ".venv",
   "language": "python",
   "name": "python3"
  },
  "language_info": {
   "codemirror_mode": {
    "name": "ipython",
    "version": 3
   },
   "file_extension": ".py",
   "mimetype": "text/x-python",
   "name": "python",
   "nbconvert_exporter": "python",
   "pygments_lexer": "ipython3",
   "version": "3.11.0"
  }
 },
 "nbformat": 4,
 "nbformat_minor": 2
}
